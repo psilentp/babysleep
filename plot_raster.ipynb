{
 "cells": [
  {
   "cell_type": "code",
   "execution_count": 1,
   "metadata": {
    "collapsed": false,
    "deletable": true,
    "editable": true
   },
   "outputs": [
    {
     "name": "stderr",
     "output_type": "stream",
     "text": [
      "/Users/thad/Library/Python/2.7/lib/python/site-packages/matplotlib/font_manager.py:279: UserWarning: Matplotlib is building the font cache using fc-list. This may take a moment.\n",
      "  'Matplotlib is building the font cache using fc-list. '\n"
     ]
    }
   ],
   "source": [
    "import numpy as np\n",
    "from matplotlib import pyplot as plt"
   ]
  },
  {
   "cell_type": "code",
   "execution_count": 2,
   "metadata": {
    "collapsed": false,
    "deletable": true,
    "editable": true
   },
   "outputs": [],
   "source": [
    "%matplotlib inline"
   ]
  },
  {
   "cell_type": "code",
   "execution_count": 4,
   "metadata": {
    "collapsed": true,
    "deletable": true,
    "editable": true
   },
   "outputs": [],
   "source": [
    "txt_data = \"\"\"11/18 up 500 down 645\n",
    "11/19 up 445 down 9 up 1120 down 715\n",
    "11/20 up 545 down 1030 up 1145 down 645\n",
    "11/21 up 630 down 1015 up 12 down 645\n",
    "11/22 up 630 down 1030 up 1115 down 730\n",
    "11/23 up 530 down 1045 up 110 down 730\n",
    "11/24 up 1 down 115 up 530 down 1030 up 110 down 715\n",
    "11/25 up 515 down 1045 up 1215 down 730 up 1030 down 11\n",
    "11/26 up 6 down 10 up 1115 down 715\n",
    "11/27 up 6 down 10 up 11 down 7 \n",
    "11/28 up 230 down 245 up 430 down 830 up 10 down 2 up 4 down 8\n",
    "11/29 up 4 down 9 up 10 down 2 up 3 down 8\n",
    "11/30 up 430 down 920 up 1030 down 130 up 3 down 815\n",
    "12/01 up 430 down 920 up 10 down 2 up 345 down 745\n",
    "12/02 up 545 down 1215 up 2 down 745\n",
    "12/03 up 350 down 9 up 11 down 4 up 6 down 930\n",
    "12/04 up 455 down 835 up 1050 down 4 up 535 down 9 \n",
    "12/05 up 645 down 1030 up 1230 down 730\n",
    "12/06 up 545 down 9 up 1010 down 135 up 240 down 7\n",
    "12/07 up 530 down 9 up 10 down 1 up 2 down 7\n",
    "12/08 up 6 down 1020 up 1150 down 715\n",
    "12/09 up 615 down 1030 up 1220 down 630\"\"\""
   ]
  },
  {
   "cell_type": "code",
   "execution_count": 5,
   "metadata": {
    "collapsed": false,
    "deletable": true,
    "editable": true
   },
   "outputs": [
    {
     "data": {
      "image/png": "[encoded data removed]",
      "text/plain": [
       "<matplotlib.figure.Figure at 0x104fd8f50>"
      ]
     },
     "metadata": {},
     "output_type": "display_data"
    }
   ],
   "source": [
    "decode= {1:lambda s:float(s)+0.00,\n",
    "         2:lambda s:float(s)+0.00,\n",
    "         3:lambda s:float(s[0])+float(s[1:])/60.,\n",
    "         4:lambda s:float(s[:2])+float(s[2:])/60.}\n",
    "\n",
    "days = txt_data.split('\\n')\n",
    "\n",
    "parsed_data = []\n",
    "for day in days:\n",
    "    parsed_day = day.split()\n",
    "    pairs = [[x,y] for x,y in zip(parsed_day[1::2],parsed_day[2::2])]\n",
    "    decoded = np.array([decode[len(pair[1])](pair[1]) for pair in pairs])\n",
    "    ampm = np.where(np.diff(decoded)<0)\n",
    "    if np.sum(ampm) > 0:\n",
    "        pmidx = ampm[0][0]\n",
    "        decoded[pmidx+1:] += 12.0\n",
    "    else:\n",
    "        decoded[1:] += 12.0\n",
    "    for pair,dc in zip(pairs,decoded):\n",
    "        pair[1] = dc\n",
    "    parsed_data.append(pairs)\n",
    "\n",
    "times = np.linspace(0,24,120)\n",
    "raster = np.zeros((len(parsed_data),len(times)))\n",
    "\n",
    "for i,row in enumerate(parsed_data):\n",
    "    for samp in row:\n",
    "        mask = times>=samp[1]\n",
    "        if samp[0] == 'up':\n",
    "            raster[i,mask] = 1\n",
    "        else:\n",
    "            raster[i,mask] = 0\n",
    "\n",
    "plt.imshow(raster,interpolation = 'none',\n",
    "           extent = (0,24,len(parsed_data),0),\n",
    "           aspect = 'auto',\n",
    "           cmap = plt.cm.viridis)\n",
    "tks = plt.gca().set_xticks([0,6,12,18,24])\n",
    "tks = plt.gca().set_xticks(np.arange(0,25))\n",
    "plt.gca().set_xlabel('time')\n",
    "plt.gca().set_ylabel('day #')\n",
    "plt.savefig('j_sleep_raster.png')"
   ]
  },
  {
   "cell_type": "code",
   "execution_count": 6,
   "metadata": {
    "collapsed": false,
    "deletable": true,
    "editable": true
   },
   "outputs": [
    {
     "data": {
      "text/plain": [
       "[<matplotlib.lines.Line2D at 0x1052d4a90>]"
      ]
     },
     "execution_count": 6,
     "metadata": {},
     "output_type": "execute_result"
    },
    {
     "data": {
      "image/png": "[encoded data removed]",
      "text/plain": [
       "<matplotlib.figure.Figure at 0x104fc5990>"
      ]
     },
     "metadata": {},
     "output_type": "display_data"
    }
   ],
   "source": [
    "plt.plot(np.sum(-1*(raster-1),axis = 1)*24/120.,'-o')"
   ]
  },
  {
   "cell_type": "code",
   "execution_count": null,
   "metadata": {
    "collapsed": true
   },
   "outputs": [],
   "source": []
  }
 ],
 "metadata": {
  "kernelspec": {
   "display_name": "Python 2",
   "language": "python",
   "name": "python2"
  },
  "language_info": {
   "codemirror_mode": {
    "name": "ipython",
    "version": 2
   },
   "file_extension": ".py",
   "mimetype": "text/x-python",
   "name": "python",
   "nbconvert_exporter": "python",
   "pygments_lexer": "ipython2",
   "version": "2.7.13"
  }
 },
 "nbformat": 4,
 "nbformat_minor": 2
}
